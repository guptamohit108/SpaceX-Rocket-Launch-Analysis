{
 "cells": [
  {
   "cell_type": "markdown",
   "id": "0eeb77b7-0f1c-4a81-adc7-4ef282164990",
   "metadata": {},
   "source": [
    "# My Jupyter Notebook on IBM Watson Studio"
   ]
  },
  {
   "cell_type": "markdown",
   "id": "ac0d5c06-c95d-4a35-add2-cc58a067d0cd",
   "metadata": {},
   "source": [
    "**Mohit Gupta**\n",
    "\n",
    " I am a Software Analyst"
   ]
  },
  {
   "cell_type": "markdown",
   "id": "a4ca05fd-7d49-465d-8cfc-f90e2b8bc1f7",
   "metadata": {},
   "source": [
    "*I am interested in data science because allow it us to leverage data to aid companies with their business strategies, and explore exciting new fields developing from within data science—fields like artificial intelligence, machine learning, big data*"
   ]
  },
  {
   "cell_type": "markdown",
   "id": "8916e933-2738-4535-b6b5-a7b9e91d47ce",
   "metadata": {},
   "source": [
    "### The below program is a function for adding two Numbers"
   ]
  },
  {
   "cell_type": "code",
   "execution_count": 4,
   "id": "9a931f7f-131e-437b-b8ba-b4fb3ce47f09",
   "metadata": {},
   "outputs": [
    {
     "data": {
      "text/plain": [
       "5"
      ]
     },
     "execution_count": 4,
     "metadata": {},
     "output_type": "execute_result"
    }
   ],
   "source": [
    "def add(a, b):\n",
    "    c= a+b\n",
    "    return c\n",
    "\n",
    "add(2,3)"
   ]
  },
  {
   "cell_type": "markdown",
   "id": "c19eafb5-949d-45d8-87bb-dcb986ee8cde",
   "metadata": {},
   "source": [
    "- This is last cell of MY Jupyter Notebook"
   ]
  },
  {
   "cell_type": "code",
   "execution_count": null,
   "id": "c10ed9d2-dea8-4d95-8a57-920250437617",
   "metadata": {},
   "outputs": [],
   "source": []
  }
 ],
 "metadata": {
  "kernelspec": {
   "display_name": "Python",
   "language": "python",
   "name": "conda-env-python-py"
  },
  "language_info": {
   "codemirror_mode": {
    "name": "ipython",
    "version": 3
   },
   "file_extension": ".py",
   "mimetype": "text/x-python",
   "name": "python",
   "nbconvert_exporter": "python",
   "pygments_lexer": "ipython3",
   "version": "3.7.12"
  }
 },
 "nbformat": 4,
 "nbformat_minor": 5
}
